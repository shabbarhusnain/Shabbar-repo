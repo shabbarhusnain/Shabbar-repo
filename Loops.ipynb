{
  "nbformat": 4,
  "nbformat_minor": 0,
  "metadata": {
    "colab": {
      "provenance": [],
      "authorship_tag": "ABX9TyOExa7LKgEZ9xaLU0BLJCU1",
      "include_colab_link": true
    },
    "kernelspec": {
      "name": "python3",
      "display_name": "Python 3"
    },
    "language_info": {
      "name": "python"
    }
  },
  "cells": [
    {
      "cell_type": "markdown",
      "metadata": {
        "id": "view-in-github",
        "colab_type": "text"
      },
      "source": [
        "<a href=\"https://colab.research.google.com/github/shabbarhusnain/Shabbar-repo/blob/main/Loops.ipynb\" target=\"_parent\"><img src=\"https://colab.research.google.com/assets/colab-badge.svg\" alt=\"Open In Colab\"/></a>"
      ]
    },
    {
      "cell_type": "code",
      "source": [
        "#Python code on loops( if, nestedif, for,while)\n",
        "\n",
        "# if statement\n",
        "x = 10\n",
        "if x > 5:\n",
        "  print(\"x is greater than 5\")\n",
        "\n",
        "# nested if statement\n",
        "y = 20\n",
        "if y > 15:\n",
        "  print(\"y is greater than 15\")\n",
        "  if y < 25:\n",
        "    print(\"y is also less than 25\")\n",
        "\n",
        "# for loop\n",
        "fruits = [\"apple\", \"banana\", \"cherry\"]\n",
        "for fruit in fruits:\n",
        "  print(fruit)\n",
        "\n",
        "\n",
        "# for loop with range function\n",
        "for i in range(5):\n",
        "  print(i)\n",
        "\n",
        "\n",
        "# while loop\n",
        "count = 0\n",
        "while count < 3:\n",
        "  print(count)\n",
        "  count += 1\n",
        "\n",
        "\n",
        "# Example with if-else and a for loop\n",
        "\n",
        "numbers = [1, 2, 3, 4, 5, 6]\n",
        "for num in numbers:\n",
        "    if num % 2 == 0:\n",
        "        print(f\"{num} is even\")\n",
        "    else:\n",
        "        print(f\"{num} is odd\")\n",
        "\n",
        "\n",
        "# Example with nested if-else and while loop\n",
        "i = 0\n",
        "while i < 5:\n",
        "  print(f\"Outer loop iteration: {i}\")\n",
        "  j = 0\n",
        "  while j < 3:\n",
        "    print(f\"Inner loop iteration: {j}\")\n",
        "    if j == 1:\n",
        "      print(\"j is equal to 1\")\n",
        "      if i == 2:\n",
        "        print(\"i is equal to 2 and j is equal to 1\")\n",
        "    j += 1\n",
        "  i += 1\n"
      ],
      "metadata": {
        "colab": {
          "base_uri": "https://localhost:8080/"
        },
        "id": "PbHYY2ySH9-W",
        "outputId": "b49ebea9-0c71-4d08-81e4-46ddeb8a5e3a"
      },
      "execution_count": 2,
      "outputs": [
        {
          "output_type": "stream",
          "name": "stdout",
          "text": [
            "x is greater than 5\n",
            "y is greater than 15\n",
            "y is also less than 25\n",
            "apple\n",
            "banana\n",
            "cherry\n",
            "0\n",
            "1\n",
            "2\n",
            "3\n",
            "4\n",
            "0\n",
            "1\n",
            "2\n",
            "1 is odd\n",
            "2 is even\n",
            "3 is odd\n",
            "4 is even\n",
            "5 is odd\n",
            "6 is even\n",
            "Outer loop iteration: 0\n",
            "Inner loop iteration: 0\n",
            "Inner loop iteration: 1\n",
            "j is equal to 1\n",
            "Inner loop iteration: 2\n",
            "Outer loop iteration: 1\n",
            "Inner loop iteration: 0\n",
            "Inner loop iteration: 1\n",
            "j is equal to 1\n",
            "Inner loop iteration: 2\n",
            "Outer loop iteration: 2\n",
            "Inner loop iteration: 0\n",
            "Inner loop iteration: 1\n",
            "j is equal to 1\n",
            "i is equal to 2 and j is equal to 1\n",
            "Inner loop iteration: 2\n",
            "Outer loop iteration: 3\n",
            "Inner loop iteration: 0\n",
            "Inner loop iteration: 1\n",
            "j is equal to 1\n",
            "Inner loop iteration: 2\n",
            "Outer loop iteration: 4\n",
            "Inner loop iteration: 0\n",
            "Inner loop iteration: 1\n",
            "j is equal to 1\n",
            "Inner loop iteration: 2\n"
          ]
        }
      ]
    }
  ]
}
