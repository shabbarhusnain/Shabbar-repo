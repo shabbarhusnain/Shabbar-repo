{
  "nbformat": 4,
  "nbformat_minor": 0,
  "metadata": {
    "colab": {
      "provenance": [],
      "authorship_tag": "ABX9TyMk8PiOtOdkVPcmQlg9i+kn",
      "include_colab_link": true
    },
    "kernelspec": {
      "name": "python3",
      "display_name": "Python 3"
    },
    "language_info": {
      "name": "python"
    }
  },
  "cells": [
    {
      "cell_type": "markdown",
      "metadata": {
        "id": "view-in-github",
        "colab_type": "text"
      },
      "source": [
        "<a href=\"https://colab.research.google.com/github/shabbarhusnain/Shabbar-repo/blob/main/Shabbar%20vehicles.ipynb\" target=\"_parent\"><img src=\"https://colab.research.google.com/assets/colab-badge.svg\" alt=\"Open In Colab\"/></a>"
      ]
    },
    {
      "cell_type": "code",
      "execution_count": 2,
      "metadata": {
        "colab": {
          "base_uri": "https://localhost:8080/"
        },
        "id": "vpuUFqEk8Fuj",
        "outputId": "58014364-183e-46d1-931d-db86c73fff50"
      },
      "outputs": [
        {
          "output_type": "stream",
          "name": "stdout",
          "text": [
            "SHABBAR \n",
            "Rolls Royce\n",
            "Mercedes\n",
            "BMW\n",
            "Kawasaki Ninja H2R\n"
          ]
        }
      ],
      "source": [
        "print(\"SHABBAR \")\n",
        "vehicles = [\"Rolls Royce\", \"Mercedes\", \"BMW\", \"Kawasaki Ninja H2R\"]\n",
        "for vehicle in vehicles:\n",
        "    print(vehicle)"
      ]
    }
  ]
}